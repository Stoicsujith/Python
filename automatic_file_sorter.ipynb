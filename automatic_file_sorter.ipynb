{
 "cells": [
  {
   "cell_type": "code",
   "execution_count": 3,
   "id": "03c3bd1e",
   "metadata": {},
   "outputs": [],
   "source": [
    "import os, shutil"
   ]
  },
  {
   "cell_type": "code",
   "execution_count": null,
   "id": "15897387",
   "metadata": {},
   "outputs": [],
   "source": [
    "path = r\"C:/Users/sujit/OneDrive/Documents/practicer/\" #declare path here\n",
    "file_name = os.listdir(path)\n",
    "folder_names = ['Excel files', 'Image files', 'Word files', 'Text files', 'Presentation files']"
   ]
  },
  {
   "cell_type": "code",
   "execution_count": null,
   "id": "a8f006aa",
   "metadata": {},
   "outputs": [],
   "source": [
    "for folder in folder_names:\n",
    "    folder_path = os.path.join(path, folder)\n",
    "    if not os.path.exists(folder_path):\n",
    "        print(f\"Created file: {folder_path}\")\n",
    "        os.makedirs(folder_path)\n",
    "    else:\n",
    "        print(f\"File not created: {folder_path}\")"
   ]
  },
  {
   "cell_type": "code",
   "execution_count": 17,
   "id": "9e89beb4",
   "metadata": {},
   "outputs": [],
   "source": [
    "for file in file_name:\n",
    "    src = os.path.join(path, file)\n",
    "    \n",
    "    if file.endswith((\".xlsx\", \".csv\")):\n",
    "        dest = os.path.join(path, \"Excel files\", file)\n",
    "    elif file.endswith(\".docx\"):\n",
    "        dest = os.path.join(path, \"Word files\", file)\n",
    "    elif file.lower().endswith((\".jpeg\", \".jpg\", \".png\", \".bmp\")):\n",
    "        dest = os.path.join(path, \"Image files\", file)\n",
    "    elif file.endswith(\".pptx\"):\n",
    "        dest = os.path.join(path, \"Presentation files\", file)\n",
    "    elif file.endswith(\".txt\"):\n",
    "        dest = os.path.join(path, \"Text files\", file)\n",
    "        \n",
    "    else:\n",
    "        continue\n",
    "    \n",
    "    if not os.path.exists(dest):\n",
    "        shutil.move(src, dest)"
   ]
  },
  {
   "cell_type": "code",
   "execution_count": null,
   "id": "4c33e6ab",
   "metadata": {},
   "outputs": [],
   "source": [
    "    "
   ]
  }
 ],
 "metadata": {
  "kernelspec": {
   "display_name": "Python 3",
   "language": "python",
   "name": "python3"
  },
  "language_info": {
   "codemirror_mode": {
    "name": "ipython",
    "version": 3
   },
   "file_extension": ".py",
   "mimetype": "text/x-python",
   "name": "python",
   "nbconvert_exporter": "python",
   "pygments_lexer": "ipython3",
   "version": "3.12.5"
  }
 },
 "nbformat": 4,
 "nbformat_minor": 5
}
